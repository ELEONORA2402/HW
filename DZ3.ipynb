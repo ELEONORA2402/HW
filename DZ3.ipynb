{
 "cells": [
  {
   "cell_type": "markdown",
   "id": "4c5300b0",
   "metadata": {
    "id": "4c5300b0"
   },
   "source": [
    "# Дз 3. Тестирование статистических гипотез"
   ]
  },
  {
   "cell_type": "markdown",
   "id": "e41ea851",
   "metadata": {
    "id": "e41ea851"
   },
   "source": [
    "<div class=\"alert alert-info\" role=\"alert\">\n",
    "\n",
    "Важно!\n",
    "\n",
    "* Плагиат карается обнулением работы\n",
    "* При использовании чужого кода из открытых источников необходимо указать ссылку на источник\n",
    "* В каждой задаче необходимо обосновывать выбор статистического критерия, формулировать нулевую и альтернативную гипотезу и делать интерпретацию получившихся результатов, а также содержательный вывод.\n",
    "* Весь текст оформляется строго в ячейках типа markdown"
   ]
  },
  {
   "cell_type": "markdown",
   "id": "e463f5b5",
   "metadata": {
    "id": "e463f5b5"
   },
   "source": [
    "## Задача 1. Осьминог Пауль (2 балла)\n",
    "\n",
    "\n",
    "В период с 2008 по 2010 год в Германии жил Осьминог Пауль, который был известен тем, что мог предсказывать результаты матчей с участием сборной Германии.     \n",
    "   \n",
    "В таблице ниже вы можете видеть результаты его предсказаний: \n"
   ]
  },
  {
   "cell_type": "markdown",
   "id": "63504b80",
   "metadata": {
    "id": "63504b80"
   },
   "source": [
    "<a href=\"https://ibb.co/VWnc5yG\"><img src=\"https://i.ibb.co/QFS3tBV/image.jpg\" alt=\"image\" border=\"0\"></a>"
   ]
  },
  {
   "cell_type": "markdown",
   "id": "346f6376",
   "metadata": {
    "id": "346f6376"
   },
   "source": [
    "Если считать, что случайным образом мы угадывали ли бы 50% матчей, то можно ли утверждать, что осьминог Пауль был талантливым экстрасенсом со способностями к предсказаниям?"
   ]
  },
  {
   "cell_type": "code",
   "execution_count": 45,
   "id": "9072470f",
   "metadata": {
    "id": "9072470f"
   },
   "outputs": [],
   "source": [
    "import numpy as np\n",
    "import pandas as pd\n",
    "import matplotlib.pyplot as plt\n",
    "import warnings\n",
    "warnings.filterwarnings(\"ignore\")\n",
    "import scipy.stats as sps\n",
    "import statsmodels.stats.power as sts"
   ]
  },
  {
   "cell_type": "code",
   "execution_count": 4,
   "id": "af125ec8",
   "metadata": {},
   "outputs": [],
   "source": [
    "p0 = 0.5\n",
    "vec = [1, 0, 1, 1, 1, 0, 1, 1, 1, 1, 1, 1, 1]"
   ]
  },
  {
   "cell_type": "code",
   "execution_count": 5,
   "id": "c75e903a",
   "metadata": {},
   "outputs": [],
   "source": [
    "std_Paul = np.std(vec)\n",
    "mean_Paul = np.mean(vec)"
   ]
  },
  {
   "cell_type": "markdown",
   "id": "d4173406",
   "metadata": {},
   "source": [
    "H0: p_Paul > p0; H1: p_Paul < p0"
   ]
  },
  {
   "cell_type": "markdown",
   "id": "1556cced",
   "metadata": {},
   "source": [
    "Нулевая гипотеза: Пауль - талантливый экстрасенс; альтернативная: нет"
   ]
  },
  {
   "cell_type": "markdown",
   "id": "2475d323",
   "metadata": {},
   "source": [
    "Возьмем уровень значимости равным 0.05"
   ]
  },
  {
   "cell_type": "code",
   "execution_count": 13,
   "id": "c0c97d33",
   "metadata": {},
   "outputs": [
    {
     "name": "stdout",
     "output_type": "stream",
     "text": [
      "z-расчетная: 3.4591775165361334\n"
     ]
    }
   ],
   "source": [
    "z = (mean_Paul - p0) / (std_Paul / np.sqrt(len(vec)))\n",
    "print(\"z-расчетная:\", z)"
   ]
  },
  {
   "cell_type": "code",
   "execution_count": 25,
   "id": "744189f4",
   "metadata": {},
   "outputs": [
    {
     "name": "stdout",
     "output_type": "stream",
     "text": [
      "z-тест: [1.64485363]\n"
     ]
    }
   ],
   "source": [
    "print(\"z-тест:\", sps.norm.ppf([0.95], 0, 1))"
   ]
  },
  {
   "cell_type": "code",
   "execution_count": 15,
   "id": "dfe04f0d",
   "metadata": {},
   "outputs": [],
   "source": [
    "def t_test(crit, df):\n",
    "    print(\"t-тест:\",  sps.t.ppf([crit], df))"
   ]
  },
  {
   "cell_type": "code",
   "execution_count": 16,
   "id": "9539d2ce",
   "metadata": {},
   "outputs": [],
   "source": [
    "def z_test(crit):\n",
    "    print(\"z-тест:\", sps.norm.ppf([crit], 0, 1))"
   ]
  },
  {
   "cell_type": "code",
   "execution_count": 27,
   "id": "a9b21342",
   "metadata": {},
   "outputs": [],
   "source": [
    "def t_des(mean1, mean2, std1, std2, n, m):\n",
    "    std_sum = np.sqrt((std1 ** 2 * (n - 1) + std2 ** 2 * (m - 1)) / (n + m - 2))\n",
    "    print(\"t-расчетная:\", (mean1 - mean2) / (std_sum * np.sqrt(1 / n + 1 / m)))"
   ]
  },
  {
   "cell_type": "code",
   "execution_count": 32,
   "id": "febe7827",
   "metadata": {},
   "outputs": [],
   "source": [
    "def z_des(mean1, mean2, std1, std2, m, n):\n",
    "    print(\"z-расчетная:\", (mean1 - mean2) / np.sqrt(std1 ** 2 / n + std2 ** 2 / m))"
   ]
  },
  {
   "cell_type": "markdown",
   "id": "461fc557",
   "metadata": {},
   "source": [
    "Так как основная гипотеза p_Paul > p0, следовательно будем принимать ее, если z-расчетная > z-теста"
   ]
  },
  {
   "cell_type": "markdown",
   "id": "0de3439f",
   "metadata": {},
   "source": [
    "Значит, Пауль-талантливый экстрасенс"
   ]
  },
  {
   "cell_type": "markdown",
   "id": "de312a8f",
   "metadata": {
    "id": "de312a8f"
   },
   "source": [
    "## Задача 2.  Корм и котики (2 балла)\n",
    "\n",
    "    \n",
    "Новый корм для котиков рекламируется с помощью рекламного баннера. Отдел маркетинга разработал для рекламы новый баннер. Они считают, что он более красивый. Перед фирмой возникла необходимость проверить какой из двух баннеров лучше.\n",
    "\n",
    "Для этого была создана специальная веб-форма. В этой веб-форме людям по очереди демонстрировали оба баннера и просили поставить лайк, если баннер нравится человеку. Если человеку нравятся оба баннера, он может поставить два лайка. Если ему не нравится ни один баннер, он может не ставить лайки вовсе. Собранные в конечном итоге данные находятся в табличке.\n",
    "\n",
    "Можно ли утверждать, что оба баннера одинаково хороши? Сформулируйте статистическую гипотезу для проверки того, что оба баннера выбирают одинаково часто. Проверьте ее и сделайте выводы.\n"
   ]
  },
  {
   "cell_type": "code",
   "execution_count": 33,
   "id": "167378f2",
   "metadata": {
    "id": "167378f2"
   },
   "outputs": [
    {
     "data": {
      "text/html": [
       "<div>\n",
       "<style scoped>\n",
       "    .dataframe tbody tr th:only-of-type {\n",
       "        vertical-align: middle;\n",
       "    }\n",
       "\n",
       "    .dataframe tbody tr th {\n",
       "        vertical-align: top;\n",
       "    }\n",
       "\n",
       "    .dataframe thead th {\n",
       "        text-align: right;\n",
       "    }\n",
       "</style>\n",
       "<table border=\"1\" class=\"dataframe\">\n",
       "  <thead>\n",
       "    <tr style=\"text-align: right;\">\n",
       "      <th></th>\n",
       "      <th>0</th>\n",
       "      <th>1</th>\n",
       "    </tr>\n",
       "  </thead>\n",
       "  <tbody>\n",
       "    <tr>\n",
       "      <th>0</th>\n",
       "      <td>0</td>\n",
       "      <td>0</td>\n",
       "    </tr>\n",
       "    <tr>\n",
       "      <th>1</th>\n",
       "      <td>1</td>\n",
       "      <td>1</td>\n",
       "    </tr>\n",
       "    <tr>\n",
       "      <th>2</th>\n",
       "      <td>0</td>\n",
       "      <td>0</td>\n",
       "    </tr>\n",
       "    <tr>\n",
       "      <th>3</th>\n",
       "      <td>0</td>\n",
       "      <td>0</td>\n",
       "    </tr>\n",
       "    <tr>\n",
       "      <th>4</th>\n",
       "      <td>0</td>\n",
       "      <td>0</td>\n",
       "    </tr>\n",
       "    <tr>\n",
       "      <th>...</th>\n",
       "      <td>...</td>\n",
       "      <td>...</td>\n",
       "    </tr>\n",
       "    <tr>\n",
       "      <th>995</th>\n",
       "      <td>0</td>\n",
       "      <td>0</td>\n",
       "    </tr>\n",
       "    <tr>\n",
       "      <th>996</th>\n",
       "      <td>0</td>\n",
       "      <td>0</td>\n",
       "    </tr>\n",
       "    <tr>\n",
       "      <th>997</th>\n",
       "      <td>0</td>\n",
       "      <td>0</td>\n",
       "    </tr>\n",
       "    <tr>\n",
       "      <th>998</th>\n",
       "      <td>0</td>\n",
       "      <td>0</td>\n",
       "    </tr>\n",
       "    <tr>\n",
       "      <th>999</th>\n",
       "      <td>0</td>\n",
       "      <td>0</td>\n",
       "    </tr>\n",
       "  </tbody>\n",
       "</table>\n",
       "<p>1000 rows × 2 columns</p>\n",
       "</div>"
      ],
      "text/plain": [
       "     0  1\n",
       "0    0  0\n",
       "1    1  1\n",
       "2    0  0\n",
       "3    0  0\n",
       "4    0  0\n",
       "..  .. ..\n",
       "995  0  0\n",
       "996  0  0\n",
       "997  0  0\n",
       "998  0  0\n",
       "999  0  0\n",
       "\n",
       "[1000 rows x 2 columns]"
      ]
     },
     "execution_count": 33,
     "metadata": {},
     "output_type": "execute_result"
    }
   ],
   "source": [
    "cat = pd.read_csv(\"banner_click_stat.csv\", sep=\"\\t\", header=None)\n",
    "cat"
   ]
  },
  {
   "cell_type": "code",
   "execution_count": 35,
   "id": "68653086",
   "metadata": {},
   "outputs": [],
   "source": [
    "mean0 = np.mean(cat[0])\n",
    "mean1 = np.mean(cat[1])\n",
    "std0 = np.std(cat[0])\n",
    "std1 = np.std(cat[1])\n",
    "n = len(cat[0])\n",
    "m = len(cat[1])"
   ]
  },
  {
   "cell_type": "code",
   "execution_count": 36,
   "id": "fc84f2ff",
   "metadata": {},
   "outputs": [
    {
     "name": "stdout",
     "output_type": "stream",
     "text": [
      "z-расчетная: -1.7271126578424774\n"
     ]
    }
   ],
   "source": [
    "z_des(mean0, mean1, std0, std1, n, m)"
   ]
  },
  {
   "cell_type": "markdown",
   "id": "21a907c0",
   "metadata": {},
   "source": [
    "Нулевая гипотеза: p_0 == p_1, альтернативная: p_0 < p_1 or p_0 > p_1"
   ]
  },
  {
   "cell_type": "code",
   "execution_count": 38,
   "id": "68fb008e",
   "metadata": {},
   "outputs": [
    {
     "name": "stdout",
     "output_type": "stream",
     "text": [
      "z-тест: [1.64485363]\n"
     ]
    }
   ],
   "source": [
    "z_test(0.95)"
   ]
  },
  {
   "cell_type": "markdown",
   "id": "e07011ba",
   "metadata": {},
   "source": [
    "Чтобы не отклонять нулевую гипотезу, надо -z-тест < z-расчетная < z-тест"
   ]
  },
  {
   "cell_type": "markdown",
   "id": "69e067eb",
   "metadata": {},
   "source": [
    "Но z-расчетная < -z-тест. Следовательно мы попадаем в область альтернативной гипотезы, когда второй баннер выбирают чаще"
   ]
  },
  {
   "cell_type": "markdown",
   "id": "ceefe195",
   "metadata": {
    "id": "ceefe195"
   },
   "source": [
    "## Задача 3. Немного АВ-тестов (3 балла)\n",
    "## Игра Cookie Cat"
   ]
  },
  {
   "cell_type": "markdown",
   "id": "7a6e5960",
   "metadata": {
    "id": "7a6e5960"
   },
   "source": [
    "В этом задании мы поработаем с данными Cookie Cats - популярной игры-головоломки, которую разработала компания Tactile Entertainment. В этой игре игрок должен соединять одинаковые элементы в ряд, чтобы очистить поле и выиграть уровень. "
   ]
  },
  {
   "cell_type": "markdown",
   "id": "f010877f",
   "metadata": {
    "id": "f010877f"
   },
   "source": [
    "<p style=\"align: center;\"><img align=center src=\"https://i.ytimg.com/vi/iPxZIp0cbJE/maxresdefault.jpg\"  width=500></p>\n",
    " \n",
    " \n",
    "<p style=\"align: center;\"><img align=center src=\"https://s3.amazonaws.com/assets.datacamp.com/production/project_184/img/cc_gates.png\"  width=500></p>\n"
   ]
  },
  {
   "cell_type": "markdown",
   "id": "45a869f8",
   "metadata": {
    "id": "45a869f8"
   },
   "source": [
    "По мере прохождения уровней перед игроками появляются ворота, открытия которых нужно ждать какое-то время или пропускать их, совершая покупки в приложении. С точки зрения создателей эти ворота повышают интерес к игре и стимулируют к вложению денег в игру.\n"
   ]
  },
  {
   "cell_type": "markdown",
   "id": "1992bbd9",
   "metadata": {
    "id": "1992bbd9"
   },
   "source": [
    "Но у создателей появляется важный вопрос: **где лучше всего ставить ворота?**\n",
    "Первоначально первые ворота были размещены на уровне 30. Однако есть гипотеза, что лучше переместить их на уровень 40. В этом задании вам предлагается проанализировать результаты AB-теста, в котором создатели переместили первые ворота в Cookie Cats с 30 уровня на уровень 40. "
   ]
  },
  {
   "cell_type": "markdown",
   "id": "0178c412",
   "metadata": {
    "id": "0178c412"
   },
   "source": [
    "**Данные получены от 90 189 игроков, которые установили игру во время проведения AB-теста. Переменные:**\n",
    "\n",
    "* `userid` - уникальный номер, идентифицирующий каждого игрока.\n",
    "\n",
    "* `version` - был ли игрок помещен в контрольную группу (gate_30 - ворота на уровне 30) или в тестовую группу (gate_40 - ворота на уровне 40).\n",
    "\n",
    "* `sum_gamerounds` - количество игровых раундов, сыгранных игроком в течение первой недели после установки\n",
    "* `retention_1` - вернулся ли игрок в игру через 1 день после установки\n",
    "* `retention_7` - вернулся ли игрок в игру через 7 дней после установки\n",
    "\n",
    "Когда игрок устанавливал игру, ему случайным образом назначали `gate_30` или `gate_40`."
   ]
  },
  {
   "cell_type": "code",
   "execution_count": 52,
   "id": "5d32953b",
   "metadata": {
    "id": "5d32953b",
    "outputId": "e19bff24-d56e-419f-9197-a6169b9e1cf4"
   },
   "outputs": [
    {
     "data": {
      "text/html": [
       "<div>\n",
       "<style scoped>\n",
       "    .dataframe tbody tr th:only-of-type {\n",
       "        vertical-align: middle;\n",
       "    }\n",
       "\n",
       "    .dataframe tbody tr th {\n",
       "        vertical-align: top;\n",
       "    }\n",
       "\n",
       "    .dataframe thead th {\n",
       "        text-align: right;\n",
       "    }\n",
       "</style>\n",
       "<table border=\"1\" class=\"dataframe\">\n",
       "  <thead>\n",
       "    <tr style=\"text-align: right;\">\n",
       "      <th></th>\n",
       "      <th>userid</th>\n",
       "      <th>version</th>\n",
       "      <th>sum_gamerounds</th>\n",
       "      <th>retention_1</th>\n",
       "      <th>retention_7</th>\n",
       "    </tr>\n",
       "  </thead>\n",
       "  <tbody>\n",
       "    <tr>\n",
       "      <th>0</th>\n",
       "      <td>116</td>\n",
       "      <td>gate_30</td>\n",
       "      <td>3</td>\n",
       "      <td>False</td>\n",
       "      <td>False</td>\n",
       "    </tr>\n",
       "    <tr>\n",
       "      <th>1</th>\n",
       "      <td>337</td>\n",
       "      <td>gate_30</td>\n",
       "      <td>38</td>\n",
       "      <td>True</td>\n",
       "      <td>False</td>\n",
       "    </tr>\n",
       "    <tr>\n",
       "      <th>2</th>\n",
       "      <td>377</td>\n",
       "      <td>gate_40</td>\n",
       "      <td>165</td>\n",
       "      <td>True</td>\n",
       "      <td>False</td>\n",
       "    </tr>\n",
       "    <tr>\n",
       "      <th>3</th>\n",
       "      <td>483</td>\n",
       "      <td>gate_40</td>\n",
       "      <td>1</td>\n",
       "      <td>False</td>\n",
       "      <td>False</td>\n",
       "    </tr>\n",
       "    <tr>\n",
       "      <th>4</th>\n",
       "      <td>488</td>\n",
       "      <td>gate_40</td>\n",
       "      <td>179</td>\n",
       "      <td>True</td>\n",
       "      <td>True</td>\n",
       "    </tr>\n",
       "  </tbody>\n",
       "</table>\n",
       "</div>"
      ],
      "text/plain": [
       "   userid  version  sum_gamerounds  retention_1  retention_7\n",
       "0     116  gate_30               3        False        False\n",
       "1     337  gate_30              38         True        False\n",
       "2     377  gate_40             165         True        False\n",
       "3     483  gate_40               1        False        False\n",
       "4     488  gate_40             179         True         True"
      ]
     },
     "execution_count": 52,
     "metadata": {},
     "output_type": "execute_result"
    }
   ],
   "source": [
    "import pandas as pd\n",
    "df = pd.read_csv('cookie_cats.csv')\n",
    "df.head()"
   ]
  },
  {
   "cell_type": "code",
   "execution_count": 53,
   "id": "563bbcbb",
   "metadata": {
    "id": "563bbcbb",
    "outputId": "4467f65d-2988-455a-ebf0-ec78e3269d38"
   },
   "outputs": [
    {
     "name": "stdout",
     "output_type": "stream",
     "text": [
      "<class 'pandas.core.frame.DataFrame'>\n",
      "RangeIndex: 90189 entries, 0 to 90188\n",
      "Data columns (total 5 columns):\n",
      " #   Column          Non-Null Count  Dtype \n",
      "---  ------          --------------  ----- \n",
      " 0   userid          90189 non-null  int64 \n",
      " 1   version         90189 non-null  object\n",
      " 2   sum_gamerounds  90189 non-null  int64 \n",
      " 3   retention_1     90189 non-null  bool  \n",
      " 4   retention_7     90189 non-null  bool  \n",
      "dtypes: bool(2), int64(2), object(1)\n",
      "memory usage: 2.2+ MB\n"
     ]
    }
   ],
   "source": [
    "df.info()"
   ]
  },
  {
   "cell_type": "code",
   "execution_count": 54,
   "id": "5526ab1d",
   "metadata": {},
   "outputs": [
    {
     "name": "stdout",
     "output_type": "stream",
     "text": [
      "Oбьем выборки: 4939\n"
     ]
    }
   ],
   "source": [
    "print(\"Oбьем выборки:\", round(sts.TTestIndPower().solve_power(0.05, power=0.7, nobs1=None, ratio=1.0, alpha=0.05)))"
   ]
  },
  {
   "cell_type": "markdown",
   "id": "2bd5758d",
   "metadata": {
    "id": "2bd5758d"
   },
   "source": [
    "### Вопрос 1: есть ли зависимость между возвращаемостью игроков и расположением ворот?"
   ]
  },
  {
   "cell_type": "markdown",
   "id": "c5412061",
   "metadata": {
    "id": "c5412061"
   },
   "source": [
    "#### 1.1 Проверьте гипотезу для возвращения через день"
   ]
  },
  {
   "cell_type": "code",
   "execution_count": 77,
   "id": "e7ee4751",
   "metadata": {
    "id": "e7ee4751"
   },
   "outputs": [],
   "source": [
    "gate30 = df[df['version'] == 'gate_30'].sample(n=4939, random_state=22)\n",
    "gate40 = df[df['version'] == 'gate_40'].sample(n=4939)"
   ]
  },
  {
   "cell_type": "code",
   "execution_count": 78,
   "id": "a52ccd2e",
   "metadata": {},
   "outputs": [],
   "source": [
    "mean_30ret1 = np.mean(gate30[\"retention_1\"])\n",
    "mean_40ret1 = np.mean(gate40[\"retention_1\"])\n",
    "std_30ret1 = np.std(gate30[\"retention_1\"])\n",
    "std_40ret1 = np.std(gate40[\"retention_1\"])\n",
    "n = 4939\n",
    "m = 4939"
   ]
  },
  {
   "cell_type": "code",
   "execution_count": 79,
   "id": "c7f5ecc1",
   "metadata": {},
   "outputs": [
    {
     "name": "stdout",
     "output_type": "stream",
     "text": [
      "t-расчетная: -0.6874706185929663\n"
     ]
    }
   ],
   "source": [
    "t_des(mean_30ret1, mean_40ret1, std_30ret1, std_40ret1, n, m)"
   ]
  },
  {
   "cell_type": "markdown",
   "id": "d701e459",
   "metadata": {},
   "source": [
    "Нулевая гипотеза: p30 == p40; альтернативная: p30 > p40"
   ]
  },
  {
   "cell_type": "code",
   "execution_count": 80,
   "id": "363a4e86",
   "metadata": {},
   "outputs": [
    {
     "name": "stdout",
     "output_type": "stream",
     "text": [
      "t-тест: [1.96020422]\n"
     ]
    }
   ],
   "source": [
    "t_test(0.975, n + m - 2)"
   ]
  },
  {
   "cell_type": "markdown",
   "id": "78644307",
   "metadata": {},
   "source": [
    "Чтобы принять нулевую гипотезу, нужно -t-тест < t-расчетная < t-тест"
   ]
  },
  {
   "cell_type": "markdown",
   "id": "62199f3c",
   "metadata": {},
   "source": [
    "Следовательно среднее количество игроков, которые возвращаются в игру спустя один день в разных версиях игры, одинаково"
   ]
  },
  {
   "cell_type": "markdown",
   "id": "15ebcdad",
   "metadata": {
    "id": "15ebcdad"
   },
   "source": [
    "#### 2.2 Проверьте гипотезу для возвращения через семь дней"
   ]
  },
  {
   "cell_type": "code",
   "execution_count": 81,
   "id": "1703de87",
   "metadata": {
    "id": "1703de87"
   },
   "outputs": [],
   "source": [
    "mean_30ret7 = np.mean(gate30[\"retention_7\"])\n",
    "mean_40ret7 = np.mean(gate40[\"retention_7\"])\n",
    "std_30ret7 = np.std(gate30[\"retention_7\"])\n",
    "std_40ret7 = np.std(gate40[\"retention_7\"])\n",
    "n = 4939\n",
    "m = 4939"
   ]
  },
  {
   "cell_type": "code",
   "execution_count": 82,
   "id": "53763305",
   "metadata": {},
   "outputs": [
    {
     "name": "stdout",
     "output_type": "stream",
     "text": [
      "t-расчетная: -0.3378930703078716\n"
     ]
    }
   ],
   "source": [
    "t_des(mean_30ret7, mean_40ret7, std_30ret7, std_40ret7, n, m)"
   ]
  },
  {
   "cell_type": "code",
   "execution_count": 83,
   "id": "fb76f955",
   "metadata": {},
   "outputs": [
    {
     "name": "stdout",
     "output_type": "stream",
     "text": [
      "t-тест: [1.96020422]\n"
     ]
    }
   ],
   "source": [
    "t_test(0.975, n + m - 2)"
   ]
  },
  {
   "cell_type": "markdown",
   "id": "b1c66677",
   "metadata": {},
   "source": [
    "Будем проверять те же гипотезы, что и в пункте про возвращение через день"
   ]
  },
  {
   "cell_type": "markdown",
   "id": "1c419e74",
   "metadata": {},
   "source": [
    "Чтобы не отвергать нулевую гипотезу t-расчетная должна принадлежать промежутку [-t-тест, t-тест]"
   ]
  },
  {
   "cell_type": "markdown",
   "id": "78c46db7",
   "metadata": {},
   "source": [
    "Можем понять, что это так, следовательно среднее количество игроков, которые возвращаются в игру спустя неделю в разных версиях игры, одинаково"
   ]
  },
  {
   "cell_type": "markdown",
   "id": "498a3f1d",
   "metadata": {
    "id": "498a3f1d"
   },
   "source": [
    "### Вопрос 2: Отличается ли среднее количество раундов в группах gate_40 и gate_30?"
   ]
  },
  {
   "cell_type": "code",
   "execution_count": 84,
   "id": "a2504ebd",
   "metadata": {
    "id": "a2504ebd"
   },
   "outputs": [],
   "source": [
    "mean_30sum = np.mean(gate30[\"sum_gamerounds\"])\n",
    "mean_40sum = np.mean(gate40[\"sum_gamerounds\"])\n",
    "std_30sum = np.std(gate30[\"sum_gamerounds\"])\n",
    "std_40sum = np.std(gate40[\"sum_gamerounds\"])\n",
    "n = 4939\n",
    "m = 4939"
   ]
  },
  {
   "cell_type": "code",
   "execution_count": 85,
   "id": "29ec87c4",
   "metadata": {},
   "outputs": [
    {
     "name": "stdout",
     "output_type": "stream",
     "text": [
      "t-расчетная: -0.4643966537386319\n"
     ]
    }
   ],
   "source": [
    "t_des(mean_30sum, mean_40sum, std_30sum, std_40sum, n, m)"
   ]
  },
  {
   "cell_type": "markdown",
   "id": "f89ee7b9",
   "metadata": {},
   "source": [
    "Нулевая гипотеза: среднее количество раундов в группах равны. Альтернативная: либо в gate_40, либо в gate_30 больше"
   ]
  },
  {
   "cell_type": "code",
   "execution_count": 86,
   "id": "a351e70d",
   "metadata": {},
   "outputs": [
    {
     "name": "stdout",
     "output_type": "stream",
     "text": [
      "t-тест: [1.96020422]\n"
     ]
    }
   ],
   "source": [
    "t_test(0.975, n + m - 2)"
   ]
  },
  {
   "cell_type": "markdown",
   "id": "700d5d0e",
   "metadata": {},
   "source": [
    "Так как основная гипотеза остается той же, следовательно проверяем по тому же принципу"
   ]
  },
  {
   "cell_type": "markdown",
   "id": "2497b898",
   "metadata": {},
   "source": [
    "Среднее количество раундов в разных версиях игры одинаковы "
   ]
  },
  {
   "cell_type": "markdown",
   "id": "e236e864",
   "metadata": {
    "id": "e236e864"
   },
   "source": [
    "### Вопрос 3: Отличается ли медианное количество раундов в группах gate_40 и gate_30?"
   ]
  },
  {
   "cell_type": "code",
   "execution_count": 88,
   "id": "955578c4",
   "metadata": {
    "id": "955578c4"
   },
   "outputs": [
    {
     "name": "stdout",
     "output_type": "stream",
     "text": [
      "17.0 17.0\n"
     ]
    }
   ],
   "source": [
    "median_30sum = np.median(gate30[\"sum_gamerounds\"])\n",
    "median_40sum = np.median(gate40[\"sum_gamerounds\"])\n",
    "print(median_30sum, median_40sum)"
   ]
  },
  {
   "cell_type": "markdown",
   "id": "03f0c2b4",
   "metadata": {
    "id": "03f0c2b4"
   },
   "source": [
    "## Задача 4: Время покемонов (3 балла)"
   ]
  },
  {
   "cell_type": "markdown",
   "id": "413f4923",
   "metadata": {
    "id": "413f4923"
   },
   "source": [
    "В данной задаче вам будет необходимо проанализировать различные характеристики покемонов и сравнить их между собой"
   ]
  },
  {
   "cell_type": "markdown",
   "id": "a253705e",
   "metadata": {
    "id": "a253705e"
   },
   "source": [
    "<p style=\"align: center;\"><img align=center src=\"https://proprikol.ru/wp-content/uploads/2020/11/kartinki-pokemonov-2.jpg\"  width=500></p>"
   ]
  },
  {
   "cell_type": "markdown",
   "id": "1810bfee",
   "metadata": {
    "id": "1810bfee"
   },
   "source": [
    "Покемоны - это маленькие существа, которые сражаются друг с другом на соревнованиях. Все покемоны имеют разные характеристики (сила атаки, защиты и т. д.) и относятся к одному или двум так называемым классам (вода, огонь и т. д.). Профессор Оук является изобретателем Pokedex, портативного устройства, которое хранит информацию обо всех существующих покемонах. Как его ведущий специалист по данным, Вы только что получили от него запрос с просьбой осуществить аналитику данных на всех устройствах Pokedex."
   ]
  },
  {
   "cell_type": "markdown",
   "id": "19045811",
   "metadata": {
    "id": "19045811"
   },
   "source": [
    "### Описание данных\n",
    "\n",
    "Профессор Оук скопировал все содержимое память одного устройства Pokedex, в результате чего получился набор данных, с которым Вы будете работать в этой задаче. В этом файле каждая строка представляет характеристики одного покемона:\n",
    "\n",
    "* pid: Numeric - ID покемона\n",
    "* HP: Numeric - Очки здоровья\n",
    "* Attack: Numeric - Сила обычной атаки\n",
    "* Defense: Numeric - Сила обычной защиты\n",
    "* Sp. Atk: Numeric - Сила специальной атаки\n",
    "* Sp. Def: Numeric - Сила специальной защиты\n",
    "* Speed: Numeric - Скорость движений\n",
    "* Legendary: Boolean - «True», если покемон редкий\n",
    "* Class 1: Categorical - Класс покемона\n",
    "* Class 2: Categorical - Класс покемона"
   ]
  },
  {
   "cell_type": "code",
   "execution_count": 14,
   "id": "890824cb",
   "metadata": {},
   "outputs": [
    {
     "data": {
      "text/html": [
       "<div>\n",
       "<style scoped>\n",
       "    .dataframe tbody tr th:only-of-type {\n",
       "        vertical-align: middle;\n",
       "    }\n",
       "\n",
       "    .dataframe tbody tr th {\n",
       "        vertical-align: top;\n",
       "    }\n",
       "\n",
       "    .dataframe thead th {\n",
       "        text-align: right;\n",
       "    }\n",
       "</style>\n",
       "<table border=\"1\" class=\"dataframe\">\n",
       "  <thead>\n",
       "    <tr style=\"text-align: right;\">\n",
       "      <th></th>\n",
       "      <th>pid</th>\n",
       "      <th>Name</th>\n",
       "      <th>Class 1</th>\n",
       "      <th>Class 2</th>\n",
       "      <th>HP</th>\n",
       "      <th>Attack</th>\n",
       "      <th>Defense</th>\n",
       "      <th>Sp. Atk</th>\n",
       "      <th>Sp. Def</th>\n",
       "      <th>Speed</th>\n",
       "      <th>Legendary</th>\n",
       "    </tr>\n",
       "  </thead>\n",
       "  <tbody>\n",
       "    <tr>\n",
       "      <th>0</th>\n",
       "      <td>1</td>\n",
       "      <td>Bulbasaur</td>\n",
       "      <td>Grass</td>\n",
       "      <td>Poison</td>\n",
       "      <td>45</td>\n",
       "      <td>49</td>\n",
       "      <td>49</td>\n",
       "      <td>65</td>\n",
       "      <td>65</td>\n",
       "      <td>45</td>\n",
       "      <td>False</td>\n",
       "    </tr>\n",
       "    <tr>\n",
       "      <th>1</th>\n",
       "      <td>2</td>\n",
       "      <td>Ivysaur</td>\n",
       "      <td>Grass</td>\n",
       "      <td>Poison</td>\n",
       "      <td>60</td>\n",
       "      <td>62</td>\n",
       "      <td>63</td>\n",
       "      <td>80</td>\n",
       "      <td>80</td>\n",
       "      <td>60</td>\n",
       "      <td>False</td>\n",
       "    </tr>\n",
       "    <tr>\n",
       "      <th>2</th>\n",
       "      <td>3</td>\n",
       "      <td>Venusaur</td>\n",
       "      <td>Grass</td>\n",
       "      <td>Poison</td>\n",
       "      <td>80</td>\n",
       "      <td>82</td>\n",
       "      <td>83</td>\n",
       "      <td>100</td>\n",
       "      <td>100</td>\n",
       "      <td>80</td>\n",
       "      <td>False</td>\n",
       "    </tr>\n",
       "    <tr>\n",
       "      <th>3</th>\n",
       "      <td>4</td>\n",
       "      <td>Mega Venusaur</td>\n",
       "      <td>Grass</td>\n",
       "      <td>Poison</td>\n",
       "      <td>80</td>\n",
       "      <td>100</td>\n",
       "      <td>123</td>\n",
       "      <td>122</td>\n",
       "      <td>120</td>\n",
       "      <td>80</td>\n",
       "      <td>False</td>\n",
       "    </tr>\n",
       "    <tr>\n",
       "      <th>4</th>\n",
       "      <td>5</td>\n",
       "      <td>Charmander</td>\n",
       "      <td>Fire</td>\n",
       "      <td>NaN</td>\n",
       "      <td>39</td>\n",
       "      <td>52</td>\n",
       "      <td>43</td>\n",
       "      <td>60</td>\n",
       "      <td>50</td>\n",
       "      <td>65</td>\n",
       "      <td>False</td>\n",
       "    </tr>\n",
       "    <tr>\n",
       "      <th>...</th>\n",
       "      <td>...</td>\n",
       "      <td>...</td>\n",
       "      <td>...</td>\n",
       "      <td>...</td>\n",
       "      <td>...</td>\n",
       "      <td>...</td>\n",
       "      <td>...</td>\n",
       "      <td>...</td>\n",
       "      <td>...</td>\n",
       "      <td>...</td>\n",
       "      <td>...</td>\n",
       "    </tr>\n",
       "    <tr>\n",
       "      <th>795</th>\n",
       "      <td>796</td>\n",
       "      <td>Diancie</td>\n",
       "      <td>Rock</td>\n",
       "      <td>Fairy</td>\n",
       "      <td>50</td>\n",
       "      <td>100</td>\n",
       "      <td>150</td>\n",
       "      <td>100</td>\n",
       "      <td>150</td>\n",
       "      <td>50</td>\n",
       "      <td>True</td>\n",
       "    </tr>\n",
       "    <tr>\n",
       "      <th>796</th>\n",
       "      <td>797</td>\n",
       "      <td>Mega Diancie</td>\n",
       "      <td>Rock</td>\n",
       "      <td>Fairy</td>\n",
       "      <td>50</td>\n",
       "      <td>160</td>\n",
       "      <td>110</td>\n",
       "      <td>160</td>\n",
       "      <td>110</td>\n",
       "      <td>110</td>\n",
       "      <td>True</td>\n",
       "    </tr>\n",
       "    <tr>\n",
       "      <th>797</th>\n",
       "      <td>798</td>\n",
       "      <td>Hoopa Confined</td>\n",
       "      <td>Psychic</td>\n",
       "      <td>Ghost</td>\n",
       "      <td>80</td>\n",
       "      <td>110</td>\n",
       "      <td>60</td>\n",
       "      <td>150</td>\n",
       "      <td>130</td>\n",
       "      <td>70</td>\n",
       "      <td>True</td>\n",
       "    </tr>\n",
       "    <tr>\n",
       "      <th>798</th>\n",
       "      <td>799</td>\n",
       "      <td>Hoopa Unbound</td>\n",
       "      <td>Psychic</td>\n",
       "      <td>Dark</td>\n",
       "      <td>80</td>\n",
       "      <td>160</td>\n",
       "      <td>60</td>\n",
       "      <td>170</td>\n",
       "      <td>130</td>\n",
       "      <td>80</td>\n",
       "      <td>True</td>\n",
       "    </tr>\n",
       "    <tr>\n",
       "      <th>799</th>\n",
       "      <td>800</td>\n",
       "      <td>Volcanion</td>\n",
       "      <td>Fire</td>\n",
       "      <td>Water</td>\n",
       "      <td>80</td>\n",
       "      <td>110</td>\n",
       "      <td>120</td>\n",
       "      <td>130</td>\n",
       "      <td>90</td>\n",
       "      <td>70</td>\n",
       "      <td>True</td>\n",
       "    </tr>\n",
       "  </tbody>\n",
       "</table>\n",
       "<p>800 rows × 11 columns</p>\n",
       "</div>"
      ],
      "text/plain": [
       "     pid            Name  Class 1 Class 2  HP  Attack  Defense  Sp. Atk  \\\n",
       "0      1       Bulbasaur    Grass  Poison  45      49       49       65   \n",
       "1      2         Ivysaur    Grass  Poison  60      62       63       80   \n",
       "2      3        Venusaur    Grass  Poison  80      82       83      100   \n",
       "3      4   Mega Venusaur    Grass  Poison  80     100      123      122   \n",
       "4      5      Charmander     Fire     NaN  39      52       43       60   \n",
       "..   ...             ...      ...     ...  ..     ...      ...      ...   \n",
       "795  796         Diancie     Rock   Fairy  50     100      150      100   \n",
       "796  797    Mega Diancie     Rock   Fairy  50     160      110      160   \n",
       "797  798  Hoopa Confined  Psychic   Ghost  80     110       60      150   \n",
       "798  799   Hoopa Unbound  Psychic    Dark  80     160       60      170   \n",
       "799  800       Volcanion     Fire   Water  80     110      120      130   \n",
       "\n",
       "     Sp. Def  Speed  Legendary  \n",
       "0         65     45      False  \n",
       "1         80     60      False  \n",
       "2        100     80      False  \n",
       "3        120     80      False  \n",
       "4         50     65      False  \n",
       "..       ...    ...        ...  \n",
       "795      150     50       True  \n",
       "796      110    110       True  \n",
       "797      130     70       True  \n",
       "798      130     80       True  \n",
       "799       90     70       True  \n",
       "\n",
       "[800 rows x 11 columns]"
      ]
     },
     "execution_count": 14,
     "metadata": {},
     "output_type": "execute_result"
    }
   ],
   "source": [
    "pokemon = pd.read_csv(\"pokemon.csv\")\n",
    "pokemon"
   ]
  },
  {
   "cell_type": "markdown",
   "id": "5de00877",
   "metadata": {},
   "source": [
    "Уровень значимости равен 0.05"
   ]
  },
  {
   "cell_type": "markdown",
   "id": "216b24ea",
   "metadata": {
    "id": "216b24ea"
   },
   "source": [
    "### Вопрос 1"
   ]
  },
  {
   "cell_type": "markdown",
   "id": "83dadefc",
   "metadata": {
    "id": "83dadefc"
   },
   "source": [
    "Профессор Оук подозревает, что покемоны в классе `grass` имеют более сильную обычную атаку, чем у покемонов в классе `rock`. Проверьте, прав ли он, и убедите его в своем выводе статистически. "
   ]
  },
  {
   "cell_type": "code",
   "execution_count": 17,
   "id": "fb6a5007",
   "metadata": {
    "id": "fb6a5007"
   },
   "outputs": [],
   "source": [
    "grass = np.array(pokemon[pokemon[\"Class 1\"] == \"Grass\"][\"Attack\"])\n",
    "rock = np.array(pokemon[pokemon[\"Class 1\"] == \"Rock\"][\"Attack\"])"
   ]
  },
  {
   "cell_type": "code",
   "execution_count": 18,
   "id": "cbd510de",
   "metadata": {},
   "outputs": [],
   "source": [
    "mean_grass = np.mean(grass)\n",
    "mean_rock = np.mean(rock)\n",
    "std_grass = np.std(grass)\n",
    "std_rock = np.std(rock)\n",
    "n = len(grass)\n",
    "m = len(rock)"
   ]
  },
  {
   "cell_type": "code",
   "execution_count": 20,
   "id": "f75b7745",
   "metadata": {},
   "outputs": [
    {
     "name": "stdout",
     "output_type": "stream",
     "text": [
      "t-расчетная: -3.483968342159054\n"
     ]
    }
   ],
   "source": [
    "t_des(mean_grass, mean_rock, std_grass, std_rock, n, m)"
   ]
  },
  {
   "cell_type": "markdown",
   "id": "587fc623",
   "metadata": {},
   "source": [
    "Нулевая гипотеза: m_grass > m_rock, альтернативная: m_grass < m_rock"
   ]
  },
  {
   "cell_type": "code",
   "execution_count": 24,
   "id": "e94aff83",
   "metadata": {},
   "outputs": [
    {
     "name": "stdout",
     "output_type": "stream",
     "text": [
      "t-тест: [1.64580773]\n"
     ]
    }
   ],
   "source": [
    "t_test(0.95, n + m - 2)"
   ]
  },
  {
   "cell_type": "markdown",
   "id": "cf1242b3",
   "metadata": {},
   "source": [
    "Чтобы принимать нулевую гипотезу t-расчетная > t-тест. Но это не так, следовательно смотрим на левосторонний тест"
   ]
  },
  {
   "cell_type": "markdown",
   "id": "eecaa81a",
   "metadata": {},
   "source": [
    "t-расчетная < -t-тест. Это область альтернативной гипотезы, значит профессор Оук не прав"
   ]
  },
  {
   "cell_type": "markdown",
   "id": "efe3805e",
   "metadata": {
    "id": "efe3805e"
   },
   "source": [
    "### Вопрос 2"
   ]
  },
  {
   "cell_type": "markdown",
   "id": "baeb5aeb",
   "metadata": {
    "id": "baeb5aeb"
   },
   "source": [
    "Также профессор Оук очень хочет проверить, правда ли нет значимой разницы между силой обычной атаки и силой обычной защиты у покемонов. Помогите ему и ответьте на вопрос, подтвердив свои выводы с помощью проверки статистических гипотез"
   ]
  },
  {
   "cell_type": "code",
   "execution_count": 22,
   "id": "a8ae940e",
   "metadata": {
    "id": "a8ae940e"
   },
   "outputs": [],
   "source": [
    "mean_attack = np.mean(pokemon[\"Attack\"])\n",
    "mean_def = np.mean(pokemon[\"Defense\"])\n",
    "std_attack = np.std(pokemon[\"Attack\"])\n",
    "std_def = np.std(pokemon[\"Defense\"])\n",
    "n = len(pokemon[\"Attack\"])\n",
    "m = len(pokemon[\"Defense\"])"
   ]
  },
  {
   "cell_type": "code",
   "execution_count": 23,
   "id": "e9070cc7",
   "metadata": {},
   "outputs": [
    {
     "name": "stdout",
     "output_type": "stream",
     "text": [
      "t-расчетная: 3.2437920780405096\n"
     ]
    }
   ],
   "source": [
    "t_des(mean_attack, mean_def, std_attack, std_def, n, m)"
   ]
  },
  {
   "cell_type": "markdown",
   "id": "a309b841",
   "metadata": {},
   "source": [
    "Нулевая гипотеза m_attack == m_def, альтернативная: m_attack != m_def"
   ]
  },
  {
   "cell_type": "code",
   "execution_count": 26,
   "id": "dcee4fce",
   "metadata": {},
   "outputs": [
    {
     "name": "stdout",
     "output_type": "stream",
     "text": [
      "t-тест: [1.96144962]\n"
     ]
    }
   ],
   "source": [
    "t_test(0.975, n + m - 2)"
   ]
  },
  {
   "cell_type": "markdown",
   "id": "690b92f2",
   "metadata": {},
   "source": [
    "Чтобы принять нулевую гипотезу, -t-тест < t-расчетная < t-тест"
   ]
  },
  {
   "cell_type": "markdown",
   "id": "a33f8443",
   "metadata": {},
   "source": [
    "Но t-расчетная > t-тест, следовательно мы отвергаем нулевую гипотезу и попадаем в область альтернативной гипотезы, в которой      m_attack > m_def"
   ]
  },
  {
   "cell_type": "markdown",
   "id": "55c372da",
   "metadata": {
    "id": "55c372da"
   },
   "source": [
    "### Вопрос 3"
   ]
  },
  {
   "cell_type": "markdown",
   "id": "781cbb94",
   "metadata": {
    "id": "781cbb94"
   },
   "source": [
    "И последний вопрос, который мучает профессора Оука: правда ли, что средняя скорость покемонов превышает 66.6 ? Сформулируйте подходящие гипотезы и помогите профессору Оуку, ответив на вопрос."
   ]
  },
  {
   "cell_type": "code",
   "execution_count": 29,
   "id": "aefbfc32",
   "metadata": {
    "id": "aefbfc32"
   },
   "outputs": [],
   "source": [
    "mean_speed = np.mean(pokemon[\"Speed\"])\n",
    "mean_0 = 66.6\n",
    "std_speed = np.std(pokemon[\"Speed\"])\n",
    "std_0 = 0\n",
    "n = len(pokemon[\"Speed\"])\n",
    "m = 1"
   ]
  },
  {
   "cell_type": "code",
   "execution_count": 30,
   "id": "8e16d264",
   "metadata": {},
   "outputs": [
    {
     "name": "stdout",
     "output_type": "stream",
     "text": [
      "t-расчетная: 0.05772449984384741\n"
     ]
    }
   ],
   "source": [
    "t_des(mean_speed, mean_0, std_speed, std_0, n, m)"
   ]
  },
  {
   "cell_type": "markdown",
   "id": "6ff2259f",
   "metadata": {},
   "source": [
    "Нулевая гипотеза: m_speed > 66.6, альтернативная: m_speed == 66.6 or m_speed < 66.6"
   ]
  },
  {
   "cell_type": "code",
   "execution_count": 31,
   "id": "520b892b",
   "metadata": {},
   "outputs": [
    {
     "name": "stdout",
     "output_type": "stream",
     "text": [
      "t-тест: [1.64676295]\n"
     ]
    }
   ],
   "source": [
    "t_test(0.95, n + m - 2)"
   ]
  },
  {
   "cell_type": "markdown",
   "id": "c2646a9e",
   "metadata": {},
   "source": [
    "Чтобы принимать нулевую гипотезу, нужно t-расчетная > t-тест. Но это не так"
   ]
  },
  {
   "cell_type": "markdown",
   "id": "d7a48ab1",
   "metadata": {},
   "source": [
    "-t-тест < t-расчетная < t-тест, то есть мы попали в область альтернативной гипотезы, когда средняя скорость покемонов равна 66.6"
   ]
  }
 ],
 "metadata": {
  "colab": {
   "name": "DZ3_DS.ipynb",
   "provenance": []
  },
  "kernelspec": {
   "display_name": "Python 3 (ipykernel)",
   "language": "python",
   "name": "python3"
  },
  "language_info": {
   "codemirror_mode": {
    "name": "ipython",
    "version": 3
   },
   "file_extension": ".py",
   "mimetype": "text/x-python",
   "name": "python",
   "nbconvert_exporter": "python",
   "pygments_lexer": "ipython3",
   "version": "3.9.7"
  }
 },
 "nbformat": 4,
 "nbformat_minor": 5
}
